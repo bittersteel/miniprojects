{
 "cells": [
  {
   "cell_type": "markdown",
   "id": "26732c2f",
   "metadata": {},
   "source": [
    "# Counting the number of Spell Bee puzzles"
   ]
  },
  {
   "cell_type": "markdown",
   "id": "74c39bec",
   "metadata": {},
   "source": [
    "### Version 0: Theoretical maximum"
   ]
  },
  {
   "cell_type": "code",
   "execution_count": 6,
   "id": "a9f67ee3",
   "metadata": {},
   "outputs": [
    {
     "name": "stdout",
     "output_type": "stream",
     "text": [
      "Total possible Spell Bee puzzles: 4,604,600\n"
     ]
    }
   ],
   "source": [
    "from math import comb\n",
    "\n",
    "def count_theoretical_max(alphabet_size=26, puzzle_size=7):\n",
    "    # Total number of ways to choose 7 letters from 26\n",
    "    letter_combinations = comb(alphabet_size, puzzle_size)\n",
    "    \n",
    "    # Each combination can have any of the 7 letters as center\n",
    "    total_possibilities = letter_combinations * puzzle_size\n",
    "    \n",
    "    return total_possibilities\n",
    "\n",
    "# Calculate and display result\n",
    "result = count_theoretical_max()\n",
    "print(f\"Total possible Spell Bee puzzles: {result:,}\")"
   ]
  },
  {
   "cell_type": "markdown",
   "id": "d9d1c05c",
   "metadata": {},
   "source": [
    "### Version 1: Add rule that it must contain at least 1 vowel"
   ]
  },
  {
   "cell_type": "code",
   "execution_count": 7,
   "id": "1c917d82",
   "metadata": {},
   "outputs": [
    {
     "name": "stdout",
     "output_type": "stream",
     "text": [
      "Total possible Spell Bee puzzles: 3,790,640\n"
     ]
    }
   ],
   "source": [
    "def count_valid_puzzles(puzzle_size=7, min_vowels=1):\n",
    "    VOWELS = set('AEIOU')\n",
    "    CONSONANTS = set('BCDFGHJKLMNPQRSTVWXYZ')\n",
    "    \n",
    "    def has_vowel(letters):\n",
    "        return bool(set(letters) & VOWELS)\n",
    "    \n",
    "    total = 0\n",
    "    # Count combinations with at least 'min_vowels' vowels\n",
    "    for vowel_count in range(min_vowels, min(puzzle_size, len(VOWELS)) + 1):\n",
    "        consonant_count = puzzle_size - vowel_count\n",
    "        if consonant_count <= len(CONSONANTS):\n",
    "            # Calculate valid combinations\n",
    "            vowel_combos = comb(len(VOWELS), vowel_count)\n",
    "            consonant_combos = comb(len(CONSONANTS), consonant_count)\n",
    "            total += vowel_combos * consonant_combos * puzzle_size # center letter choices\n",
    "\n",
    "    return total\n",
    "\n",
    "# Calculate and display result\n",
    "result = count_valid_puzzles()\n",
    "print(f\"Total possible Spell Bee puzzles: {result:,}\")"
   ]
  },
  {
   "cell_type": "markdown",
   "id": "2602677d",
   "metadata": {},
   "source": [
    "The above makes sense since we can also arrive at this number by the following: \n",
    "\n",
    "Total number of theoretical puzzles = count_theoretical_max(26,7) = 4,604,600\n",
    "\n",
    "Total number of theoretical puzzles with only consonents = count_theoretical_max(21,7) = 813,960\n",
    "\n",
    "The difference between the two will give us the number of theoretical puzzles with atleast one vowel, which yields 3,790,640."
   ]
  },
  {
   "cell_type": "code",
   "execution_count": null,
   "id": "6b2836ff",
   "metadata": {},
   "outputs": [],
   "source": []
  }
 ],
 "metadata": {
  "kernelspec": {
   "display_name": "base",
   "language": "python",
   "name": "python3"
  },
  "language_info": {
   "codemirror_mode": {
    "name": "ipython",
    "version": 3
   },
   "file_extension": ".py",
   "mimetype": "text/x-python",
   "name": "python",
   "nbconvert_exporter": "python",
   "pygments_lexer": "ipython3",
   "version": "3.12.7"
  }
 },
 "nbformat": 4,
 "nbformat_minor": 5
}
