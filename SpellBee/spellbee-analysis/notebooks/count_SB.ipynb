{
    "cells": [
        {
            "cell_type": "markdown",
            "metadata": {
                "language": "markdown"
            },
            "source": [
                "# Counting the number of Spell Bee puzzles"
            ]
        },
        {
            "cell_type": "markdown",
            "metadata": {
                "language": "markdown"
            },
            "source": [
                "### Version 0: Theoretical maximum"
            ]
        },
        {
            "cell_type": "code",
            "execution_count": 1,
            "metadata": {
                "language": "python"
            },
            "outputs": [
                {
                    "name": "stdout",
                    "output_type": "stream",
                    "text": [
                        "Total possible Spell Bee puzzles: 4,604,600\n"
                    ]
                }
            ],
            "source": [
                "from math import comb\n",
                "\n",
                "def count_theoretical_max(alphabet_size=26, puzzle_size=7):\n",
                "    # Total number of ways to choose 7 letters from 26\n",
                "    letter_combinations = comb(alphabet_size, puzzle_size)\n",
                "    \n",
                "    # Each combination can have any of the 7 letters as center\n",
                "    total_possibilities = letter_combinations * puzzle_size\n",
                "    \n",
                "    return total_possibilities\n",
                "\n",
                "# Calculate and display result\n",
                "result = count_theoretical_max()\n",
                "print(f\"Total possible Spell Bee puzzles: {result:,}\")"
            ]
        },
        {
            "cell_type": "markdown",
            "metadata": {
                "language": "markdown"
            },
            "source": [
                "### Version 1: Add rule that it must contain at least 1 vowel"
            ]
        },
        {
            "cell_type": "code",
            "execution_count": 2,
            "metadata": {
                "language": "python"
            },
            "outputs": [
                {
                    "name": "stdout",
                    "output_type": "stream",
                    "text": [
                        "Total possible Spell Bee puzzles: 3,790,640\n"
                    ]
                }
            ],
            "source": [
                "def count_valid_puzzles(puzzle_size=7, min_vowels=1):\n",
                "    VOWELS = set('AEIOU')\n",
                "    CONSONANTS = set('BCDFGHJKLMNPQRSTVWXYZ')\n",
                "    \n",
                "    total = 0\n",
                "    # Count combinations with at least 'min_vowels' vowels\n",
                "    for vowel_count in range(min_vowels, min(puzzle_size, len(VOWELS)) + 1):\n",
                "        consonant_count = puzzle_size - vowel_count\n",
                "        if consonant_count <= len(CONSONANTS):\n",
                "            # Calculate valid combinations\n",
                "            vowel_combos = comb(len(VOWELS), vowel_count)\n",
                "            consonant_combos = comb(len(CONSONANTS), consonant_count)\n",
                "            total += vowel_combos * consonant_combos * puzzle_size # center letter choices\n",
                "\n",
                "    return total\n",
                "\n",
                "# Calculate and display result\n",
                "result = count_valid_puzzles()\n",
                "print(f\"Total possible Spell Bee puzzles: {result:,}\")"
            ]
        },
        {
            "cell_type": "markdown",
            "id": "b7491ddd",
            "metadata": {},
            "source": [
                "The above makes sense since we can also arrive at this number by the following: \n",
                "\n",
                "Total number of theoretical puzzles = count_theoretical_max(26,7) = 4,604,600.\n",
                "Total number of theoretical puzzles with only consonents = count_theoretical_max(21,7) = 813,960.\n",
                "The difference between the two will give us the number of theoretical puzzles with atleast one vowel, which yields 3,790,640."
            ]
        },
        {
            "cell_type": "markdown",
            "metadata": {
                "language": "markdown"
            },
            "source": [
                "### Version 2: Validate against a word list\n",
                "\n",
                "In this version, we will load a word list and check if the generated combinations can form valid words.\n",
                "We will create a function to load the word list and another function to validate the generated puzzles.\n"
            ]
        },
        {
            "cell_type": "code",
            "execution_count": null,
            "metadata": {
                "language": "python"
            },
            "outputs": [],
            "source": [
                "def load_word_list(file_path):\n",
                "    with open(file_path, 'r') as file:\n",
                "        words = set(word.strip().upper() for word in file.readlines())\n",
                "    return words\n",
                "\n",
                "def is_valid_puzzle(letters, word_list):\n",
                "    return any(word in word_list for word in generate_words(letters))\n",
                "\n",
                "def generate_words(letters):\n",
                "    # This function should generate all possible words from the given letters\n",
                "    # Placeholder for actual implementation\n",
                "    return []\n",
                "\n",
                "# Load the word list\n",
                "word_list = load_word_list('data/wordlists/wordlist.txt')\n",
                "\n",
                "# Example usage of validation\n",
                "letters = 'ABCDEG'\n",
                "if is_valid_puzzle(letters, word_list):\n",
                "    print(f\"{letters} can form valid words.\")\n",
                "else:\n",
                "    print(f\"{letters} cannot form valid words.\")"
            ]
        },
        {
            "cell_type": "markdown",
            "metadata": {
                "language": "markdown"
            },
            "source": [
                "### Conclusion\n",
                "This notebook outlines the approaches to count possible Spell Bee puzzles and validate them against a word list. Further enhancements can be made to improve the word generation logic."
            ]
        }
    ],
    "metadata": {
        "kernelspec": {
            "display_name": "base",
            "language": "python",
            "name": "python3"
        },
        "language_info": {
            "codemirror_mode": {
                "name": "ipython",
                "version": 3
            },
            "file_extension": ".py",
            "mimetype": "text/x-python",
            "name": "python",
            "nbconvert_exporter": "python",
            "pygments_lexer": "ipython3",
            "version": "3.12.7"
        }
    },
    "nbformat": 4,
    "nbformat_minor": 5
}
